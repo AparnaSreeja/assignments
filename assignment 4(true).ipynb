{
 "cells": [
  {
   "cell_type": "markdown",
   "id": "fbdea97b",
   "metadata": {},
   "source": [
    "# GETTING KNOW ABOUT THE DATA SET"
   ]
  },
  {
   "cell_type": "markdown",
   "id": "6fa70511",
   "metadata": {},
   "source": [
    "## IMPORT LIBRARIES"
   ]
  },
  {
   "cell_type": "code",
   "execution_count": 43,
   "id": "418afb20",
   "metadata": {},
   "outputs": [],
   "source": [
    "import pandas as pd\n",
    "import seaborn as sns\n",
    "import numpy as np\n",
    "import matplotlib.pyplot as plt\n",
    "import statistics as stat"
   ]
  },
  {
   "cell_type": "markdown",
   "id": "ce200da3",
   "metadata": {},
   "source": [
    "## IMPORT DATASET"
   ]
  },
  {
   "cell_type": "code",
   "execution_count": 44,
   "id": "db91622e",
   "metadata": {},
   "outputs": [],
   "source": [
    "df = pd.read_csv('Sales_add.csv')"
   ]
  },
  {
   "cell_type": "markdown",
   "id": "158a71da",
   "metadata": {},
   "source": [
    "## DISPLAY DATASET"
   ]
  },
  {
   "cell_type": "code",
   "execution_count": 45,
   "id": "f1691952",
   "metadata": {},
   "outputs": [
    {
     "data": {
      "text/html": [
       "<div>\n",
       "<style scoped>\n",
       "    .dataframe tbody tr th:only-of-type {\n",
       "        vertical-align: middle;\n",
       "    }\n",
       "\n",
       "    .dataframe tbody tr th {\n",
       "        vertical-align: top;\n",
       "    }\n",
       "\n",
       "    .dataframe thead th {\n",
       "        text-align: right;\n",
       "    }\n",
       "</style>\n",
       "<table border=\"1\" class=\"dataframe\">\n",
       "  <thead>\n",
       "    <tr style=\"text-align: right;\">\n",
       "      <th></th>\n",
       "      <th>Month</th>\n",
       "      <th>Region</th>\n",
       "      <th>Manager</th>\n",
       "      <th>Sales_before_digital_add(in $)</th>\n",
       "      <th>Sales_After_digital_add(in $)</th>\n",
       "    </tr>\n",
       "  </thead>\n",
       "  <tbody>\n",
       "    <tr>\n",
       "      <th>0</th>\n",
       "      <td>Month-1</td>\n",
       "      <td>Region - A</td>\n",
       "      <td>Manager - A</td>\n",
       "      <td>132921</td>\n",
       "      <td>270390</td>\n",
       "    </tr>\n",
       "    <tr>\n",
       "      <th>1</th>\n",
       "      <td>Month-2</td>\n",
       "      <td>Region - A</td>\n",
       "      <td>Manager - C</td>\n",
       "      <td>149559</td>\n",
       "      <td>223334</td>\n",
       "    </tr>\n",
       "    <tr>\n",
       "      <th>2</th>\n",
       "      <td>Month-3</td>\n",
       "      <td>Region - B</td>\n",
       "      <td>Manager - A</td>\n",
       "      <td>146278</td>\n",
       "      <td>244243</td>\n",
       "    </tr>\n",
       "    <tr>\n",
       "      <th>3</th>\n",
       "      <td>Month-4</td>\n",
       "      <td>Region - B</td>\n",
       "      <td>Manager - B</td>\n",
       "      <td>152167</td>\n",
       "      <td>231808</td>\n",
       "    </tr>\n",
       "    <tr>\n",
       "      <th>4</th>\n",
       "      <td>Month-5</td>\n",
       "      <td>Region - C</td>\n",
       "      <td>Manager - B</td>\n",
       "      <td>159525</td>\n",
       "      <td>258402</td>\n",
       "    </tr>\n",
       "  </tbody>\n",
       "</table>\n",
       "</div>"
      ],
      "text/plain": [
       "     Month      Region      Manager  Sales_before_digital_add(in $)  \\\n",
       "0  Month-1  Region - A  Manager - A                          132921   \n",
       "1  Month-2  Region - A  Manager - C                          149559   \n",
       "2  Month-3  Region - B  Manager - A                          146278   \n",
       "3  Month-4  Region - B  Manager - B                          152167   \n",
       "4  Month-5  Region - C  Manager - B                          159525   \n",
       "\n",
       "   Sales_After_digital_add(in $)  \n",
       "0                         270390  \n",
       "1                         223334  \n",
       "2                         244243  \n",
       "3                         231808  \n",
       "4                         258402  "
      ]
     },
     "execution_count": 45,
     "metadata": {},
     "output_type": "execute_result"
    }
   ],
   "source": [
    "df.head()"
   ]
  },
  {
   "cell_type": "markdown",
   "id": "7d750d2c",
   "metadata": {},
   "source": [
    "## GETTING KNOW ABOUT DATSET SHAPE & COLUMNS"
   ]
  },
  {
   "cell_type": "code",
   "execution_count": 46,
   "id": "ff7e6447",
   "metadata": {},
   "outputs": [
    {
     "data": {
      "text/plain": [
       "(22, 5)"
      ]
     },
     "execution_count": 46,
     "metadata": {},
     "output_type": "execute_result"
    }
   ],
   "source": [
    "df.shape"
   ]
  },
  {
   "cell_type": "code",
   "execution_count": 47,
   "id": "099fde58",
   "metadata": {},
   "outputs": [
    {
     "data": {
      "text/plain": [
       "Index(['Month', 'Region', 'Manager', 'Sales_before_digital_add(in $)',\n",
       "       'Sales_After_digital_add(in $)'],\n",
       "      dtype='object')"
      ]
     },
     "execution_count": 47,
     "metadata": {},
     "output_type": "execute_result"
    }
   ],
   "source": [
    "df.columns"
   ]
  },
  {
   "cell_type": "markdown",
   "id": "0e4855ea",
   "metadata": {},
   "source": [
    "## GET INFORMATIONS ABOUT DATASET"
   ]
  },
  {
   "cell_type": "code",
   "execution_count": 48,
   "id": "3bdc5949",
   "metadata": {},
   "outputs": [
    {
     "name": "stdout",
     "output_type": "stream",
     "text": [
      "<class 'pandas.core.frame.DataFrame'>\n",
      "RangeIndex: 22 entries, 0 to 21\n",
      "Data columns (total 5 columns):\n",
      " #   Column                          Non-Null Count  Dtype \n",
      "---  ------                          --------------  ----- \n",
      " 0   Month                           22 non-null     object\n",
      " 1   Region                          22 non-null     object\n",
      " 2   Manager                         22 non-null     object\n",
      " 3   Sales_before_digital_add(in $)  22 non-null     int64 \n",
      " 4   Sales_After_digital_add(in $)   22 non-null     int64 \n",
      "dtypes: int64(2), object(3)\n",
      "memory usage: 1008.0+ bytes\n"
     ]
    }
   ],
   "source": [
    "df.info()"
   ]
  },
  {
   "cell_type": "markdown",
   "id": "a753bf2a",
   "metadata": {},
   "source": [
    "# DATA CLEANING"
   ]
  },
  {
   "cell_type": "markdown",
   "id": "f8fddc91",
   "metadata": {},
   "source": [
    "## CHECK NULL VALUES "
   ]
  },
  {
   "cell_type": "code",
   "execution_count": 49,
   "id": "6ae2aec1",
   "metadata": {},
   "outputs": [
    {
     "data": {
      "text/plain": [
       "Month                             0\n",
       "Region                            0\n",
       "Manager                           0\n",
       "Sales_before_digital_add(in $)    0\n",
       "Sales_After_digital_add(in $)     0\n",
       "dtype: int64"
      ]
     },
     "execution_count": 49,
     "metadata": {},
     "output_type": "execute_result"
    }
   ],
   "source": [
    "df.isnull().sum()"
   ]
  },
  {
   "cell_type": "markdown",
   "id": "323fd39c",
   "metadata": {},
   "source": [
    "## GET DESCRIPTIVE STATISTICS ABOUT DATASET"
   ]
  },
  {
   "cell_type": "code",
   "execution_count": 50,
   "id": "7a8b8268",
   "metadata": {},
   "outputs": [
    {
     "data": {
      "text/html": [
       "<div>\n",
       "<style scoped>\n",
       "    .dataframe tbody tr th:only-of-type {\n",
       "        vertical-align: middle;\n",
       "    }\n",
       "\n",
       "    .dataframe tbody tr th {\n",
       "        vertical-align: top;\n",
       "    }\n",
       "\n",
       "    .dataframe thead th {\n",
       "        text-align: right;\n",
       "    }\n",
       "</style>\n",
       "<table border=\"1\" class=\"dataframe\">\n",
       "  <thead>\n",
       "    <tr style=\"text-align: right;\">\n",
       "      <th></th>\n",
       "      <th>Sales_before_digital_add(in $)</th>\n",
       "      <th>Sales_After_digital_add(in $)</th>\n",
       "    </tr>\n",
       "  </thead>\n",
       "  <tbody>\n",
       "    <tr>\n",
       "      <th>count</th>\n",
       "      <td>22.000000</td>\n",
       "      <td>22.000000</td>\n",
       "    </tr>\n",
       "    <tr>\n",
       "      <th>mean</th>\n",
       "      <td>149239.954545</td>\n",
       "      <td>231123.727273</td>\n",
       "    </tr>\n",
       "    <tr>\n",
       "      <th>std</th>\n",
       "      <td>14844.042921</td>\n",
       "      <td>25556.777061</td>\n",
       "    </tr>\n",
       "    <tr>\n",
       "      <th>min</th>\n",
       "      <td>130263.000000</td>\n",
       "      <td>187305.000000</td>\n",
       "    </tr>\n",
       "    <tr>\n",
       "      <th>25%</th>\n",
       "      <td>138087.750000</td>\n",
       "      <td>214960.750000</td>\n",
       "    </tr>\n",
       "    <tr>\n",
       "      <th>50%</th>\n",
       "      <td>147444.000000</td>\n",
       "      <td>229986.500000</td>\n",
       "    </tr>\n",
       "    <tr>\n",
       "      <th>75%</th>\n",
       "      <td>157627.500000</td>\n",
       "      <td>250909.000000</td>\n",
       "    </tr>\n",
       "    <tr>\n",
       "      <th>max</th>\n",
       "      <td>178939.000000</td>\n",
       "      <td>276279.000000</td>\n",
       "    </tr>\n",
       "  </tbody>\n",
       "</table>\n",
       "</div>"
      ],
      "text/plain": [
       "       Sales_before_digital_add(in $)  Sales_After_digital_add(in $)\n",
       "count                       22.000000                      22.000000\n",
       "mean                    149239.954545                  231123.727273\n",
       "std                      14844.042921                   25556.777061\n",
       "min                     130263.000000                  187305.000000\n",
       "25%                     138087.750000                  214960.750000\n",
       "50%                     147444.000000                  229986.500000\n",
       "75%                     157627.500000                  250909.000000\n",
       "max                     178939.000000                  276279.000000"
      ]
     },
     "execution_count": 50,
     "metadata": {},
     "output_type": "execute_result"
    }
   ],
   "source": [
    "df.describe()"
   ]
  },
  {
   "cell_type": "markdown",
   "id": "52b6b808",
   "metadata": {},
   "source": [
    "### The company wishes to clarify whether there is any increase in sales after stepping into digital marketing."
   ]
  },
  {
   "cell_type": "code",
   "execution_count": 51,
   "id": "891863cb",
   "metadata": {},
   "outputs": [],
   "source": [
    "#sales before digital add"
   ]
  },
  {
   "cell_type": "code",
   "execution_count": 52,
   "id": "f8dde3a8",
   "metadata": {},
   "outputs": [
    {
     "data": {
      "text/plain": [
       "149239.95454545456"
      ]
     },
     "execution_count": 52,
     "metadata": {},
     "output_type": "execute_result"
    }
   ],
   "source": [
    "stat.mean(df['Sales_before_digital_add(in $)'])"
   ]
  },
  {
   "cell_type": "code",
   "execution_count": 53,
   "id": "acd49bed",
   "metadata": {},
   "outputs": [
    {
     "data": {
      "text/plain": [
       "147444.0"
      ]
     },
     "execution_count": 53,
     "metadata": {},
     "output_type": "execute_result"
    }
   ],
   "source": [
    "stat.median(df['Sales_before_digital_add(in $)'])"
   ]
  },
  {
   "cell_type": "code",
   "execution_count": 54,
   "id": "1f468015",
   "metadata": {},
   "outputs": [
    {
     "data": {
      "text/plain": [
       "132921"
      ]
     },
     "execution_count": 54,
     "metadata": {},
     "output_type": "execute_result"
    }
   ],
   "source": [
    "stat.mode(df['Sales_before_digital_add(in $)'])"
   ]
  },
  {
   "cell_type": "code",
   "execution_count": 55,
   "id": "e54a2fd9",
   "metadata": {},
   "outputs": [
    {
     "data": {
      "text/plain": [
       "220345610.23593074"
      ]
     },
     "execution_count": 55,
     "metadata": {},
     "output_type": "execute_result"
    }
   ],
   "source": [
    "stat.variance(df['Sales_before_digital_add(in $)'])"
   ]
  },
  {
   "cell_type": "code",
   "execution_count": 56,
   "id": "30fc022e",
   "metadata": {},
   "outputs": [
    {
     "data": {
      "text/plain": [
       "14844.042920846421"
      ]
     },
     "execution_count": 56,
     "metadata": {},
     "output_type": "execute_result"
    }
   ],
   "source": [
    "stat.stdev(df['Sales_before_digital_add(in $)'])"
   ]
  },
  {
   "cell_type": "code",
   "execution_count": 57,
   "id": "9aff8358",
   "metadata": {},
   "outputs": [],
   "source": [
    "#sales after digital add"
   ]
  },
  {
   "cell_type": "code",
   "execution_count": 58,
   "id": "38da5317",
   "metadata": {},
   "outputs": [
    {
     "data": {
      "text/plain": [
       "231123.72727272726"
      ]
     },
     "execution_count": 58,
     "metadata": {},
     "output_type": "execute_result"
    }
   ],
   "source": [
    "stat.mean(df['Sales_After_digital_add(in $)'])"
   ]
  },
  {
   "cell_type": "code",
   "execution_count": 59,
   "id": "b5be93c2",
   "metadata": {},
   "outputs": [
    {
     "data": {
      "text/plain": [
       "229986.5"
      ]
     },
     "execution_count": 59,
     "metadata": {},
     "output_type": "execute_result"
    }
   ],
   "source": [
    "stat.median(df['Sales_After_digital_add(in $)'])"
   ]
  },
  {
   "cell_type": "code",
   "execution_count": 60,
   "id": "8ee98755",
   "metadata": {},
   "outputs": [
    {
     "data": {
      "text/plain": [
       "270390"
      ]
     },
     "execution_count": 60,
     "metadata": {},
     "output_type": "execute_result"
    }
   ],
   "source": [
    "stat.mode(df['Sales_After_digital_add(in $)'])"
   ]
  },
  {
   "cell_type": "code",
   "execution_count": 61,
   "id": "7c05c682",
   "metadata": {},
   "outputs": [
    {
     "data": {
      "text/plain": [
       "653148853.7316017"
      ]
     },
     "execution_count": 61,
     "metadata": {},
     "output_type": "execute_result"
    }
   ],
   "source": [
    "stat.variance(df['Sales_After_digital_add(in $)'])"
   ]
  },
  {
   "cell_type": "code",
   "execution_count": 62,
   "id": "787d3216",
   "metadata": {},
   "outputs": [
    {
     "data": {
      "text/plain": [
       "25556.777060725042"
      ]
     },
     "execution_count": 62,
     "metadata": {},
     "output_type": "execute_result"
    }
   ],
   "source": [
    "stat.stdev(df['Sales_After_digital_add(in $)'])"
   ]
  },
  {
   "cell_type": "code",
   "execution_count": 63,
   "id": "65545315",
   "metadata": {},
   "outputs": [],
   "source": [
    "# t test is a statistical test that is used to compare the means of two groups"
   ]
  },
  {
   "cell_type": "code",
   "execution_count": 64,
   "id": "2b82b65b",
   "metadata": {},
   "outputs": [],
   "source": [
    "from scipy.stats import ttest_ind"
   ]
  },
  {
   "cell_type": "code",
   "execution_count": 65,
   "id": "d9c3aeed",
   "metadata": {},
   "outputs": [],
   "source": [
    "# null hypothesis: digital add not changed the sales\n",
    "# altenative hypothesis: digital add incresed the sales"
   ]
  },
  {
   "cell_type": "code",
   "execution_count": 66,
   "id": "f507f120",
   "metadata": {},
   "outputs": [
    {
     "data": {
      "text/plain": [
       "(-12.995084451110875, 2.614368006904645e-16)"
      ]
     },
     "execution_count": 66,
     "metadata": {},
     "output_type": "execute_result"
    }
   ],
   "source": [
    "t_test, p_value= ttest_ind(df['Sales_before_digital_add(in $)'],df['Sales_After_digital_add(in $)'])\n",
    "t_test, p_value"
   ]
  },
  {
   "cell_type": "code",
   "execution_count": 67,
   "id": "4c1df470",
   "metadata": {},
   "outputs": [
    {
     "name": "stdout",
     "output_type": "stream",
     "text": [
      "null hyposthesis rejectd\n"
     ]
    }
   ],
   "source": [
    "if p_value<0.05:\n",
    "    print('null hyposthesis rejectd')\n",
    "else:\n",
    "    print('null hypothesis accepted')"
   ]
  },
  {
   "cell_type": "code",
   "execution_count": 68,
   "id": "73d5eba3",
   "metadata": {},
   "outputs": [],
   "source": [
    "#null hypothesis rejected and we can conclude that digital adds contiributed to increse in sales."
   ]
  },
  {
   "cell_type": "markdown",
   "id": "34531d06",
   "metadata": {},
   "source": [
    "## The company needs to check whether there is any dependency between the features “Region” and “Manager”."
   ]
  },
  {
   "cell_type": "code",
   "execution_count": 69,
   "id": "d773b86a",
   "metadata": {},
   "outputs": [],
   "source": [
    "# chi square"
   ]
  },
  {
   "cell_type": "markdown",
   "id": "9b49256f",
   "metadata": {},
   "source": [
    "##### The chi square test of independence also known as the chi square test of association which is used to determine the association between the categorical variables"
   ]
  },
  {
   "cell_type": "code",
   "execution_count": 70,
   "id": "fda18a39",
   "metadata": {},
   "outputs": [],
   "source": [
    "from scipy.stats import chi2_contingency"
   ]
  },
  {
   "cell_type": "code",
   "execution_count": 71,
   "id": "37afe276",
   "metadata": {},
   "outputs": [],
   "source": [
    "c,p,dof,expected= chi2_contingency(df['Sales_before_digital_add(in $)'],df['Sales_After_digital_add(in $)'])\n"
   ]
  },
  {
   "cell_type": "code",
   "execution_count": 72,
   "id": "7717976a",
   "metadata": {},
   "outputs": [
    {
     "data": {
      "text/plain": [
       "0.0"
      ]
     },
     "execution_count": 72,
     "metadata": {},
     "output_type": "execute_result"
    }
   ],
   "source": [
    "c"
   ]
  },
  {
   "cell_type": "code",
   "execution_count": 73,
   "id": "735d0b63",
   "metadata": {},
   "outputs": [
    {
     "data": {
      "text/plain": [
       "1.0"
      ]
     },
     "execution_count": 73,
     "metadata": {},
     "output_type": "execute_result"
    }
   ],
   "source": [
    "p"
   ]
  },
  {
   "cell_type": "code",
   "execution_count": 74,
   "id": "55f7b2bf",
   "metadata": {},
   "outputs": [
    {
     "data": {
      "text/plain": [
       "0"
      ]
     },
     "execution_count": 74,
     "metadata": {},
     "output_type": "execute_result"
    }
   ],
   "source": [
    "dof"
   ]
  },
  {
   "cell_type": "code",
   "execution_count": 75,
   "id": "1d995436",
   "metadata": {},
   "outputs": [
    {
     "data": {
      "text/plain": [
       "array([132921., 149559., 146278., 152167., 159525., 137163., 130625.,\n",
       "       131140., 171259., 141956., 159339., 178939., 145062., 151514.,\n",
       "       147463., 177195., 140862., 167996., 132135., 152493., 147425.,\n",
       "       130263.])"
      ]
     },
     "execution_count": 75,
     "metadata": {},
     "output_type": "execute_result"
    }
   ],
   "source": [
    "expected"
   ]
  },
  {
   "cell_type": "code",
   "execution_count": 76,
   "id": "71b07b4c",
   "metadata": {},
   "outputs": [],
   "source": [
    "# null hypothesis: there is no dependency between the features “Region” and “Manager”.\n",
    "# alternative hypothesis: there is dependency between the features “Region” and “Manager”."
   ]
  },
  {
   "cell_type": "code",
   "execution_count": 77,
   "id": "e6c61a77",
   "metadata": {},
   "outputs": [
    {
     "name": "stdout",
     "output_type": "stream",
     "text": [
      "null hypothesis accepted\n"
     ]
    }
   ],
   "source": [
    "if p<0.05:\n",
    "    print('null hyposthesis rejectd')\n",
    "else:\n",
    "    print('null hypothesis accepted')"
   ]
  },
  {
   "cell_type": "code",
   "execution_count": 78,
   "id": "cdd04308",
   "metadata": {},
   "outputs": [],
   "source": [
    "#there no dependency between the features “Region” and “Manager”."
   ]
  }
 ],
 "metadata": {
  "kernelspec": {
   "display_name": "Python 3 (ipykernel)",
   "language": "python",
   "name": "python3"
  },
  "language_info": {
   "codemirror_mode": {
    "name": "ipython",
    "version": 3
   },
   "file_extension": ".py",
   "mimetype": "text/x-python",
   "name": "python",
   "nbconvert_exporter": "python",
   "pygments_lexer": "ipython3",
   "version": "3.9.13"
  }
 },
 "nbformat": 4,
 "nbformat_minor": 5
}
